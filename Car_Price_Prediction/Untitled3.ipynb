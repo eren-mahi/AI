{
  "nbformat": 4,
  "nbformat_minor": 0,
  "metadata": {
    "colab": {
      "provenance": [],
      "gpuType": "T4",
      "authorship_tag": "ABX9TyMQn7PaZJlSdfb6ZYh436yC"
    },
    "kernelspec": {
      "name": "python3",
      "display_name": "Python 3"
    },
    "language_info": {
      "name": "python"
    },
    "accelerator": "GPU"
  },
  "cells": [
    {
      "cell_type": "code",
      "source": [
        "!git clone https://github.com/eren-mahi/AI.git"
      ],
      "metadata": {
        "colab": {
          "base_uri": "https://localhost:8080/"
        },
        "id": "Y0sd8Nx7ZJsH",
        "outputId": "f53db12b-c559-4ffc-ea71-049b311d2715"
      },
      "execution_count": 1,
      "outputs": [
        {
          "output_type": "stream",
          "name": "stdout",
          "text": [
            "Cloning into 'AI'...\n",
            "remote: Enumerating objects: 51, done.\u001b[K\n",
            "remote: Counting objects: 100% (51/51), done.\u001b[K\n",
            "remote: Compressing objects: 100% (48/48), done.\u001b[K\n",
            "remote: Total 51 (delta 12), reused 0 (delta 0), pack-reused 0 (from 0)\u001b[K\n",
            "Receiving objects: 100% (51/51), 110.68 KiB | 1.19 MiB/s, done.\n",
            "Resolving deltas: 100% (12/12), done.\n"
          ]
        }
      ]
    },
    {
      "cell_type": "code",
      "execution_count": 2,
      "metadata": {
        "id": "YkHu1IP5Rs96",
        "colab": {
          "base_uri": "https://localhost:8080/"
        },
        "outputId": "849b03e4-a3f6-4d9f-8cef-bb4f6fe9d473"
      },
      "outputs": [
        {
          "output_type": "stream",
          "name": "stdout",
          "text": [
            "Epoch 1/50\n"
          ]
        },
        {
          "output_type": "stream",
          "name": "stderr",
          "text": [
            "/usr/local/lib/python3.11/dist-packages/keras/src/layers/core/dense.py:87: UserWarning: Do not pass an `input_shape`/`input_dim` argument to a layer. When using Sequential models, prefer using an `Input(shape)` object as the first layer in the model instead.\n",
            "  super().__init__(activity_regularizer=activity_regularizer, **kwargs)\n"
          ]
        },
        {
          "output_type": "stream",
          "name": "stdout",
          "text": [
            "125/125 - 2s - 12ms/step - loss: 0.0983\n",
            "Epoch 2/50\n",
            "125/125 - 0s - 2ms/step - loss: 0.0849\n",
            "Epoch 3/50\n",
            "125/125 - 0s - 2ms/step - loss: 0.0843\n",
            "Epoch 4/50\n",
            "125/125 - 0s - 2ms/step - loss: 0.0839\n",
            "Epoch 5/50\n",
            "125/125 - 0s - 2ms/step - loss: 0.0844\n",
            "Epoch 6/50\n",
            "125/125 - 0s - 2ms/step - loss: 0.0839\n",
            "Epoch 7/50\n",
            "125/125 - 0s - 2ms/step - loss: 0.0837\n",
            "Epoch 8/50\n",
            "125/125 - 0s - 2ms/step - loss: 0.0837\n",
            "Epoch 9/50\n",
            "125/125 - 0s - 2ms/step - loss: 0.0833\n",
            "Epoch 10/50\n",
            "125/125 - 0s - 2ms/step - loss: 0.0833\n",
            "Epoch 11/50\n",
            "125/125 - 0s - 2ms/step - loss: 0.0834\n",
            "Epoch 12/50\n",
            "125/125 - 0s - 2ms/step - loss: 0.0830\n",
            "Epoch 13/50\n",
            "125/125 - 0s - 2ms/step - loss: 0.0833\n",
            "Epoch 14/50\n",
            "125/125 - 0s - 2ms/step - loss: 0.0832\n",
            "Epoch 15/50\n",
            "125/125 - 0s - 3ms/step - loss: 0.0830\n",
            "Epoch 16/50\n",
            "125/125 - 0s - 2ms/step - loss: 0.0831\n",
            "Epoch 17/50\n",
            "125/125 - 0s - 2ms/step - loss: 0.0830\n",
            "Epoch 18/50\n",
            "125/125 - 0s - 2ms/step - loss: 0.0830\n",
            "Epoch 19/50\n",
            "125/125 - 0s - 2ms/step - loss: 0.0829\n",
            "Epoch 20/50\n",
            "125/125 - 0s - 2ms/step - loss: 0.0832\n",
            "Epoch 21/50\n",
            "125/125 - 0s - 2ms/step - loss: 0.0828\n",
            "Epoch 22/50\n",
            "125/125 - 0s - 3ms/step - loss: 0.0827\n",
            "Epoch 23/50\n",
            "125/125 - 1s - 5ms/step - loss: 0.0832\n",
            "Epoch 24/50\n",
            "125/125 - 1s - 5ms/step - loss: 0.0830\n",
            "Epoch 25/50\n",
            "125/125 - 1s - 5ms/step - loss: 0.0827\n",
            "Epoch 26/50\n",
            "125/125 - 1s - 4ms/step - loss: 0.0828\n",
            "Epoch 27/50\n",
            "125/125 - 0s - 2ms/step - loss: 0.0826\n",
            "Epoch 28/50\n",
            "125/125 - 0s - 2ms/step - loss: 0.0827\n",
            "Epoch 29/50\n",
            "125/125 - 0s - 3ms/step - loss: 0.0828\n",
            "Epoch 30/50\n",
            "125/125 - 0s - 2ms/step - loss: 0.0825\n",
            "Epoch 31/50\n",
            "125/125 - 0s - 2ms/step - loss: 0.0824\n",
            "Epoch 32/50\n",
            "125/125 - 0s - 2ms/step - loss: 0.0825\n",
            "Epoch 33/50\n",
            "125/125 - 0s - 2ms/step - loss: 0.0824\n",
            "Epoch 34/50\n",
            "125/125 - 0s - 3ms/step - loss: 0.0825\n",
            "Epoch 35/50\n",
            "125/125 - 1s - 5ms/step - loss: 0.0822\n",
            "Epoch 36/50\n",
            "125/125 - 1s - 4ms/step - loss: 0.0824\n",
            "Epoch 37/50\n",
            "125/125 - 0s - 2ms/step - loss: 0.0823\n",
            "Epoch 38/50\n",
            "125/125 - 0s - 2ms/step - loss: 0.0824\n",
            "Epoch 39/50\n",
            "125/125 - 0s - 2ms/step - loss: 0.0825\n",
            "Epoch 40/50\n",
            "125/125 - 0s - 2ms/step - loss: 0.0822\n",
            "Epoch 41/50\n",
            "125/125 - 0s - 3ms/step - loss: 0.0823\n",
            "Epoch 42/50\n",
            "125/125 - 0s - 2ms/step - loss: 0.0823\n",
            "Epoch 43/50\n",
            "125/125 - 0s - 2ms/step - loss: 0.0822\n",
            "Epoch 44/50\n",
            "125/125 - 0s - 2ms/step - loss: 0.0824\n",
            "Epoch 45/50\n",
            "125/125 - 0s - 3ms/step - loss: 0.0823\n",
            "Epoch 46/50\n",
            "125/125 - 0s - 2ms/step - loss: 0.0819\n",
            "Epoch 47/50\n",
            "125/125 - 0s - 2ms/step - loss: 0.0820\n",
            "Epoch 48/50\n",
            "125/125 - 0s - 2ms/step - loss: 0.0822\n",
            "Epoch 49/50\n",
            "125/125 - 0s - 2ms/step - loss: 0.0819\n",
            "Epoch 50/50\n",
            "125/125 - 0s - 2ms/step - loss: 0.0819\n"
          ]
        },
        {
          "output_type": "stream",
          "name": "stderr",
          "text": [
            "WARNING:absl:You are saving your model as an HDF5 file via `model.save()` or `keras.saving.save_model(model)`. This file format is considered legacy. We recommend using instead the native Keras format, e.g. `model.save('my_model.keras')` or `keras.saving.save_model(model, 'my_model.keras')`. \n"
          ]
        },
        {
          "output_type": "stream",
          "name": "stdout",
          "text": [
            "Model training results:\n",
            " - Training Set Error: 861992.6114375\n",
            " - Test Set Error: 895603.405625\n"
          ]
        }
      ],
      "source": [
        "import pandas as pd\n",
        "from tensorflow.keras.models import Sequential\n",
        "from tensorflow.keras.layers import Dense\n",
        "from sklearn.model_selection import train_test_split\n",
        "from sklearn.preprocessing import MinMaxScaler\n",
        "import joblib\n",
        "from sklearn.metrics import mean_absolute_error\n",
        "\n",
        "pd.options.mode.chained_assignment = None\n",
        "\n",
        "dt = pd.read_csv(\"/content/AI/Car_Price_Prediction/car_data_10000_entries.csv\")\n",
        "\n",
        "X = dt[[\"Ctype\",\"Cc\",\"Wbase\",\"Wtype\",\"Btype\"]]\n",
        "Y = dt[[\"Price\"]]\n",
        "\n",
        "X_Scaler = MinMaxScaler(feature_range=(0,1))\n",
        "Y_Scaler = MinMaxScaler(feature_range=(0,1))\n",
        "\n",
        "X[X.columns] = X_Scaler.fit_transform(X[X.columns])\n",
        "Y[Y.columns] = Y_Scaler.fit_transform(Y[Y.columns])\n",
        "\n",
        "X_train, X_test, Y_train, Y_test = train_test_split(X, Y, test_size=0.20)\n",
        "\n",
        "model = Sequential()\n",
        "model.add(Dense(256, input_dim=5, activation='relu'))\n",
        "model.add(Dense(512, activation='relu'))\n",
        "model.add(Dense(256, activation='relu'))\n",
        "model.add(Dense(128, activation='linear'))\n",
        "model.add(Dense(64, activation='linear'))\n",
        "model.add(Dense(1, activation='linear'))\n",
        "model.compile(\n",
        "    loss='mean_squared_error',\n",
        "    optimizer='adam'\n",
        ")\n",
        "\n",
        "model.fit(\n",
        "    X_train,\n",
        "    Y_train,\n",
        "    epochs=50,\n",
        "    batch_size=64,\n",
        "    shuffle=True,\n",
        "    verbose=2\n",
        ")\n",
        "\n",
        "joblib.dump(X_Scaler, \"/content/AI/Car_Price_Prediction/X_Scaler.pkl\")\n",
        "joblib.dump(Y_Scaler, \"/content/AI/Car_Price_Prediction/Y_Scaler.pkl\")\n",
        "\n",
        "model.save(\"/content/AI/Car_Price_Prediction/Car_Price_model.h5\")\n",
        "\n",
        "print(\"Model training results:\")\n",
        "\n",
        "predictions_train = model.predict(X_train, verbose=0)\n",
        "mse_train = mean_absolute_error(\n",
        "    Y_Scaler.inverse_transform(predictions_train),\n",
        "    Y_Scaler.inverse_transform(Y_train)\n",
        ")\n",
        "\n",
        "print(f\" - Training Set Error: {mse_train}\")\n",
        "\n",
        "predictions_test = model.predict(X_test, verbose=0)\n",
        "\n",
        "mse_test = mean_absolute_error(\n",
        "    Y_Scaler.inverse_transform(predictions_test),\n",
        "    Y_Scaler.inverse_transform(Y_test)\n",
        ")\n",
        "print(f\" - Test Set Error: {mse_test}\")"
      ]
    }
  ]
}