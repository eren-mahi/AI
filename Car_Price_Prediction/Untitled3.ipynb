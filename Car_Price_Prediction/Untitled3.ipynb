{
  "nbformat": 4,
  "nbformat_minor": 0,
  "metadata": {
    "colab": {
      "provenance": [],
      "gpuType": "T4",
      "authorship_tag": "ABX9TyOk5a7erQfZSCAdMKBEf6pd"
    },
    "kernelspec": {
      "name": "python3",
      "display_name": "Python 3"
    },
    "language_info": {
      "name": "python"
    },
    "accelerator": "GPU"
  },
  "cells": [
    {
      "cell_type": "code",
      "source": [
        "!git clone https://github.com/eren-mahi/AI.git"
      ],
      "metadata": {
        "colab": {
          "base_uri": "https://localhost:8080/"
        },
        "id": "Y0sd8Nx7ZJsH",
        "outputId": "6e812c9c-868d-4945-ea65-48904b83dd6c"
      },
      "execution_count": 9,
      "outputs": [
        {
          "output_type": "stream",
          "name": "stdout",
          "text": [
            "fatal: destination path 'AI' already exists and is not an empty directory.\n"
          ]
        }
      ]
    },
    {
      "cell_type": "code",
      "execution_count": 10,
      "metadata": {
        "id": "YkHu1IP5Rs96",
        "colab": {
          "base_uri": "https://localhost:8080/",
          "height": 275
        },
        "outputId": "b0b5c3de-abbc-486a-a34d-2617de87a434"
      },
      "outputs": [
        {
          "output_type": "stream",
          "name": "stderr",
          "text": [
            "/usr/local/lib/python3.11/dist-packages/keras/src/layers/core/dense.py:87: UserWarning: Do not pass an `input_shape`/`input_dim` argument to a layer. When using Sequential models, prefer using an `Input(shape)` object as the first layer in the model instead.\n",
            "  super().__init__(activity_regularizer=activity_regularizer, **kwargs)\n"
          ]
        },
        {
          "output_type": "error",
          "ename": "NameError",
          "evalue": "name 'Dropout' is not defined",
          "traceback": [
            "\u001b[0;31m---------------------------------------------------------------------------\u001b[0m",
            "\u001b[0;31mNameError\u001b[0m                                 Traceback (most recent call last)",
            "\u001b[0;32m/tmp/ipython-input-10-1028463831.py\u001b[0m in \u001b[0;36m<cell line: 0>\u001b[0;34m()\u001b[0m\n\u001b[1;32m     27\u001b[0m \u001b[0mmodel\u001b[0m\u001b[0;34m.\u001b[0m\u001b[0madd\u001b[0m\u001b[0;34m(\u001b[0m\u001b[0mDense\u001b[0m\u001b[0;34m(\u001b[0m\u001b[0;36m256\u001b[0m\u001b[0;34m,\u001b[0m \u001b[0mactivation\u001b[0m\u001b[0;34m=\u001b[0m\u001b[0;34m'relu'\u001b[0m\u001b[0;34m)\u001b[0m\u001b[0;34m)\u001b[0m\u001b[0;34m\u001b[0m\u001b[0;34m\u001b[0m\u001b[0m\n\u001b[1;32m     28\u001b[0m \u001b[0mmodel\u001b[0m\u001b[0;34m.\u001b[0m\u001b[0madd\u001b[0m\u001b[0;34m(\u001b[0m\u001b[0mDense\u001b[0m\u001b[0;34m(\u001b[0m\u001b[0;36m512\u001b[0m\u001b[0;34m,\u001b[0m \u001b[0mactivation\u001b[0m\u001b[0;34m=\u001b[0m\u001b[0;34m'relu'\u001b[0m\u001b[0;34m)\u001b[0m\u001b[0;34m)\u001b[0m\u001b[0;34m\u001b[0m\u001b[0;34m\u001b[0m\u001b[0m\n\u001b[0;32m---> 29\u001b[0;31m \u001b[0mmodel\u001b[0m\u001b[0;34m.\u001b[0m\u001b[0madd\u001b[0m\u001b[0;34m(\u001b[0m\u001b[0mDropout\u001b[0m\u001b[0;34m(\u001b[0m\u001b[0;36m0.2\u001b[0m\u001b[0;34m)\u001b[0m\u001b[0;34m)\u001b[0m\u001b[0;34m\u001b[0m\u001b[0;34m\u001b[0m\u001b[0m\n\u001b[0m\u001b[1;32m     30\u001b[0m \u001b[0mmodel\u001b[0m\u001b[0;34m.\u001b[0m\u001b[0madd\u001b[0m\u001b[0;34m(\u001b[0m\u001b[0mDense\u001b[0m\u001b[0;34m(\u001b[0m\u001b[0;36m1\u001b[0m\u001b[0;34m,\u001b[0m \u001b[0mactivation\u001b[0m\u001b[0;34m=\u001b[0m\u001b[0;34m'linear'\u001b[0m\u001b[0;34m)\u001b[0m\u001b[0;34m)\u001b[0m\u001b[0;34m\u001b[0m\u001b[0;34m\u001b[0m\u001b[0m\n\u001b[1;32m     31\u001b[0m model.compile(\n",
            "\u001b[0;31mNameError\u001b[0m: name 'Dropout' is not defined"
          ]
        }
      ],
      "source": [
        "import pandas as pd\n",
        "from tensorflow.keras.models import Sequential\n",
        "from tensorflow.keras.layers import Dense,Dropout\n",
        "from sklearn.model_selection import train_test_split\n",
        "from sklearn.preprocessing import MinMaxScaler\n",
        "import joblib\n",
        "from sklearn.metrics import mean_absolute_error\n",
        "\n",
        "pd.options.mode.chained_assignment = None\n",
        "\n",
        "dt = pd.read_csv(\"/content/AI/Car_Price_Prediction/car_data_10000_entries.csv\")\n",
        "\n",
        "X = dt[[\"Ctype\",\"Cc\",\"Wbase\",\"Wtype\",\"Btype\"]]\n",
        "Y = dt[[\"Price\"]]\n",
        "\n",
        "X_Scaler = MinMaxScaler(feature_range=(0,1))\n",
        "Y_Scaler = MinMaxScaler(feature_range=(0,1))\n",
        "\n",
        "X[X.columns] = X_Scaler.fit_transform(X[X.columns])\n",
        "Y[Y.columns] = Y_Scaler.fit_transform(Y[Y.columns])\n",
        "\n",
        "X_train, X_test, Y_train, Y_test = train_test_split(X, Y, test_size=0.20)\n",
        "\n",
        "model = Sequential()\n",
        "model.add(Dense(256, input_dim=5, activation='relu'))\n",
        "model.add(Dense(512, activation='relu'))\n",
        "model.add(Dense(256, activation='relu'))\n",
        "model.add(Dense(512, activation='relu'))\n",
        "model.add(Dropout(0.2))\n",
        "model.add(Dense(1, activation='linear'))\n",
        "model.compile(\n",
        "    loss='mean_squared_error',\n",
        "    optimizer='adam'\n",
        ")\n",
        "\n",
        "model.fit(\n",
        "    X_train,\n",
        "    Y_train,\n",
        "    epochs=50,\n",
        "    batch_size=64,\n",
        "    shuffle=True,\n",
        "    verbose=2\n",
        ")\n",
        "\n",
        "joblib.dump(X_Scaler, \"/content/AI/Car_Price_Prediction/X_Scaler.pkl\")\n",
        "joblib.dump(Y_Scaler, \"/content/AI/Car_Price_Prediction/Y_Scaler.pkl\")\n",
        "\n",
        "model.save(\"/content/AI/Car_Price_Prediction/Car_Price_model.h5\")\n",
        "\n",
        "print(\"Model training results:\")\n",
        "\n",
        "predictions_train = model.predict(X_train, verbose=0)\n",
        "mse_train = mean_absolute_error(\n",
        "    Y_Scaler.inverse_transform(predictions_train),\n",
        "    Y_Scaler.inverse_transform(Y_train)\n",
        ")\n",
        "\n",
        "print(f\" - Training Set Error: {mse_train}\")\n",
        "\n",
        "predictions_test = model.predict(X_test, verbose=0)\n",
        "\n",
        "mse_test = mean_absolute_error(\n",
        "    Y_Scaler.inverse_transform(predictions_test),\n",
        "    Y_Scaler.inverse_transform(Y_test)\n",
        ")\n",
        "print(f\" - Test Set Error: {mse_test}\")"
      ]
    }
  ]
}