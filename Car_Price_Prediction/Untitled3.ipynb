{
  "nbformat": 4,
  "nbformat_minor": 0,
  "metadata": {
    "colab": {
      "provenance": [],
      "gpuType": "T4",
      "authorship_tag": "ABX9TyNk6t+Ollx8Ys/21WVlEXVo"
    },
    "kernelspec": {
      "name": "python3",
      "display_name": "Python 3"
    },
    "language_info": {
      "name": "python"
    },
    "accelerator": "GPU"
  },
  "cells": [
    {
      "cell_type": "code",
      "source": [
        "!git clone https://github.com/eren-mahi/AI.git"
      ],
      "metadata": {
        "colab": {
          "base_uri": "https://localhost:8080/"
        },
        "id": "Y0sd8Nx7ZJsH",
        "outputId": "c0d9fb0a-1634-44f1-83dd-d30c6b839296"
      },
      "execution_count": 39,
      "outputs": [
        {
          "output_type": "stream",
          "name": "stdout",
          "text": [
            "fatal: destination path 'AI' already exists and is not an empty directory.\n"
          ]
        }
      ]
    },
    {
      "cell_type": "code",
      "execution_count": 40,
      "metadata": {
        "id": "YkHu1IP5Rs96",
        "colab": {
          "base_uri": "https://localhost:8080/"
        },
        "outputId": "17f27a09-b55e-4a10-8b3c-eba869e108e5"
      },
      "outputs": [
        {
          "output_type": "stream",
          "name": "stdout",
          "text": [
            "Epoch 1/35\n"
          ]
        },
        {
          "output_type": "stream",
          "name": "stderr",
          "text": [
            "/usr/local/lib/python3.11/dist-packages/keras/src/layers/core/dense.py:87: UserWarning: Do not pass an `input_shape`/`input_dim` argument to a layer. When using Sequential models, prefer using an `Input(shape)` object as the first layer in the model instead.\n",
            "  super().__init__(activity_regularizer=activity_regularizer, **kwargs)\n"
          ]
        },
        {
          "output_type": "stream",
          "name": "stdout",
          "text": [
            "27/27 - 2s - 66ms/step - loss: 0.1087\n",
            "Epoch 2/35\n",
            "27/27 - 0s - 18ms/step - loss: 0.0876\n",
            "Epoch 3/35\n",
            "27/27 - 1s - 22ms/step - loss: 0.0860\n",
            "Epoch 4/35\n",
            "27/27 - 1s - 23ms/step - loss: 0.0853\n",
            "Epoch 5/35\n",
            "27/27 - 1s - 24ms/step - loss: 0.0848\n",
            "Epoch 6/35\n",
            "27/27 - 1s - 22ms/step - loss: 0.0848\n",
            "Epoch 7/35\n",
            "27/27 - 1s - 24ms/step - loss: 0.0848\n",
            "Epoch 8/35\n",
            "27/27 - 1s - 22ms/step - loss: 0.0840\n",
            "Epoch 9/35\n",
            "27/27 - 1s - 23ms/step - loss: 0.0841\n",
            "Epoch 10/35\n",
            "27/27 - 1s - 24ms/step - loss: 0.0839\n",
            "Epoch 11/35\n",
            "27/27 - 1s - 22ms/step - loss: 0.0844\n",
            "Epoch 12/35\n",
            "27/27 - 0s - 17ms/step - loss: 0.0838\n",
            "Epoch 13/35\n",
            "27/27 - 0s - 16ms/step - loss: 0.0841\n",
            "Epoch 14/35\n",
            "27/27 - 1s - 24ms/step - loss: 0.0841\n",
            "Epoch 15/35\n",
            "27/27 - 1s - 22ms/step - loss: 0.0839\n",
            "Epoch 16/35\n",
            "27/27 - 1s - 32ms/step - loss: 0.0840\n",
            "Epoch 17/35\n",
            "27/27 - 1s - 49ms/step - loss: 0.0836\n",
            "Epoch 18/35\n",
            "27/27 - 1s - 36ms/step - loss: 0.0837\n",
            "Epoch 19/35\n",
            "27/27 - 1s - 23ms/step - loss: 0.0835\n",
            "Epoch 20/35\n",
            "27/27 - 1s - 24ms/step - loss: 0.0835\n",
            "Epoch 21/35\n",
            "27/27 - 1s - 22ms/step - loss: 0.0831\n",
            "Epoch 22/35\n",
            "27/27 - 1s - 24ms/step - loss: 0.0835\n",
            "Epoch 23/35\n",
            "27/27 - 1s - 22ms/step - loss: 0.0835\n",
            "Epoch 24/35\n",
            "27/27 - 1s - 22ms/step - loss: 0.0836\n",
            "Epoch 25/35\n",
            "27/27 - 0s - 17ms/step - loss: 0.0831\n",
            "Epoch 26/35\n",
            "27/27 - 1s - 22ms/step - loss: 0.0831\n",
            "Epoch 27/35\n",
            "27/27 - 1s - 24ms/step - loss: 0.0838\n",
            "Epoch 28/35\n",
            "27/27 - 1s - 22ms/step - loss: 0.0837\n",
            "Epoch 29/35\n",
            "27/27 - 1s - 23ms/step - loss: 0.0829\n",
            "Epoch 30/35\n",
            "27/27 - 1s - 23ms/step - loss: 0.0832\n",
            "Epoch 31/35\n",
            "27/27 - 1s - 23ms/step - loss: 0.0830\n",
            "Epoch 32/35\n",
            "27/27 - 0s - 18ms/step - loss: 0.0830\n",
            "Epoch 33/35\n",
            "27/27 - 1s - 22ms/step - loss: 0.0830\n",
            "Epoch 34/35\n",
            "27/27 - 1s - 22ms/step - loss: 0.0831\n",
            "Epoch 35/35\n",
            "27/27 - 1s - 29ms/step - loss: 0.0828\n"
          ]
        },
        {
          "output_type": "stream",
          "name": "stderr",
          "text": [
            "WARNING:absl:You are saving your model as an HDF5 file via `model.save()` or `keras.saving.save_model(model)`. This file format is considered legacy. We recommend using instead the native Keras format, e.g. `model.save('my_model.keras')` or `keras.saving.save_model(model, 'my_model.keras')`. \n"
          ]
        },
        {
          "output_type": "stream",
          "name": "stdout",
          "text": [
            "Model training results:\n",
            " - Training Set Error: 866512.896109375\n",
            " - Test Set Error: 875166.612375\n"
          ]
        }
      ],
      "source": [
        "import pandas as pd\n",
        "from tensorflow.keras.models import Sequential\n",
        "from tensorflow.keras.layers import Dense\n",
        "from keras.callbacks import ReduceLROnPlateau\n",
        "from sklearn.model_selection import train_test_split\n",
        "from sklearn.preprocessing import MinMaxScaler\n",
        "import joblib\n",
        "from sklearn.metrics import mean_absolute_error\n",
        "\n",
        "pd.options.mode.chained_assignment = None\n",
        "\n",
        "dt = pd.read_csv(\"/content/AI/Car_Price_Prediction/car_data_10000_entries.csv\")\n",
        "\n",
        "X = dt[[\"Ctype\",\"Cc\",\"Wbase\",\"Wtype\",\"Btype\"]]\n",
        "Y = dt[[\"Price\"]]\n",
        "\n",
        "X_Scaler = MinMaxScaler(feature_range=(0,1))\n",
        "Y_Scaler = MinMaxScaler(feature_range=(0,1))\n",
        "\n",
        "X[X.columns] = X_Scaler.fit_transform(X[X.columns])\n",
        "Y[Y.columns] = Y_Scaler.fit_transform(Y[Y.columns])\n",
        "\n",
        "X_train, X_test, Y_train, Y_test = train_test_split(X, Y, test_size=0.20)\n",
        "\n",
        "model = Sequential()\n",
        "model.add(Dense(256, input_dim=5, activation='relu'))\n",
        "model.add(Dense(1024, activation='relu'))\n",
        "model.add(Dense(128, activation='relu'))\n",
        "model.add(Dense(1, activation='linear'))\n",
        "model.compile(\n",
        "    loss='mean_squared_error',\n",
        "    optimizer='adam'\n",
        ")\n",
        "\n",
        "reduce_lr = ReduceLROnPlateau(monitor='val_loss', factor=0.2, patience=5, min_lr=0.0001)\n",
        "\n",
        "\n",
        "model.fit(\n",
        "    X_train,\n",
        "    Y_train,\n",
        "    epochs=35,\n",
        "    batch_size=300,\n",
        "    shuffle=True,\n",
        "    verbose=2,\n",
        "    callbacks=reduce_lr\n",
        ")\n",
        "\n",
        "joblib.dump(X_Scaler, \"/content/AI/Car_Price_Prediction/X_Scaler.pkl\")\n",
        "joblib.dump(Y_Scaler, \"/content/AI/Car_Price_Prediction/Y_Scaler.pkl\")\n",
        "\n",
        "model.save(\"/content/AI/Car_Price_Prediction/Car_Price_model.h5\")\n",
        "\n",
        "print(\"Model training results:\")\n",
        "\n",
        "predictions_train = model.predict(X_train, verbose=0)\n",
        "mse_train = mean_absolute_error(\n",
        "    Y_Scaler.inverse_transform(predictions_train),\n",
        "    Y_Scaler.inverse_transform(Y_train)\n",
        ")\n",
        "\n",
        "print(f\" - Training Set Error: {mse_train}\")\n",
        "\n",
        "predictions_test = model.predict(X_test, verbose=0)\n",
        "\n",
        "mse_test = mean_absolute_error(\n",
        "    Y_Scaler.inverse_transform(predictions_test),\n",
        "    Y_Scaler.inverse_transform(Y_test)\n",
        ")\n",
        "print(f\" - Test Set Error: {mse_test}\")"
      ]
    }
  ]
}