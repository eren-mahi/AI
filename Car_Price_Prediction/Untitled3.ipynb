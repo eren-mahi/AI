{
  "nbformat": 4,
  "nbformat_minor": 0,
  "metadata": {
    "colab": {
      "provenance": [],
      "gpuType": "T4",
      "authorship_tag": "ABX9TyNz5XONobd0LVxlhWVGB9Lm"
    },
    "kernelspec": {
      "name": "python3",
      "display_name": "Python 3"
    },
    "language_info": {
      "name": "python"
    },
    "accelerator": "GPU"
  },
  "cells": [
    {
      "cell_type": "code",
      "source": [
        "!git clone https://github.com/eren-mahi/AI.git"
      ],
      "metadata": {
        "id": "Y0sd8Nx7ZJsH",
        "outputId": "59209713-182b-4326-f2b5-b2a2ca22b733",
        "colab": {
          "base_uri": "https://localhost:8080/"
        }
      },
      "execution_count": 1,
      "outputs": [
        {
          "output_type": "stream",
          "name": "stdout",
          "text": [
            "Cloning into 'AI'...\n",
            "remote: Enumerating objects: 12, done.\u001b[K\n",
            "remote: Counting objects: 100% (12/12), done.\u001b[K\n",
            "remote: Compressing objects: 100% (9/9), done.\u001b[K\n",
            "remote: Total 12 (delta 0), reused 0 (delta 0), pack-reused 0 (from 0)\u001b[K\n",
            "Receiving objects: 100% (12/12), 5.17 KiB | 5.17 MiB/s, done.\n"
          ]
        }
      ]
    },
    {
      "cell_type": "code",
      "execution_count": 2,
      "metadata": {
        "id": "YkHu1IP5Rs96"
      },
      "outputs": [],
      "source": [
        "import pandas as pd\n",
        "from tensorflow.keras.models import Sequential\n",
        "from tensorflow.keras.layers import Dense\n",
        "from sklearn.model_selection import train_test_split\n",
        "from sklearn.preprocessing import MinMaxScaler\n",
        "import joblib\n",
        "from sklearn.metrics import mean_absolute_error\n",
        "\n",
        "pd.options.mode.chained_assignment = None\n",
        "\n",
        "dt = pd.read_csv(\"/content/AI/Car_Price_Prediction/car_data_100_entries.csv\")\n",
        "\n",
        "X = dt[[\"Ctype\",\"Cc\",\"Wbase\",\"Wtype\",\"Btype\"]]\n",
        "Y = dt[[\"Price\"]]\n",
        "\n",
        "X_Scaler = MinMaxScaler(feature_range=(0,1))\n",
        "Y_Scaler = MinMaxScaler(feature_range=(0,1))\n",
        "\n",
        "X[X.columns] = X_Scaler.fit_transform(X[X.columns])\n",
        "Y[Y.columns] = Y_Scaler.fit_transform(Y[Y.columns])\n",
        "\n",
        "X_train, X_test, Y_train, Y_test = train_test_split(X, Y, test_size=0.20)\n",
        "\n",
        "model = Sequential()\n",
        "model.add(Dense(50, input_dim = 5, activation='relu'))\n",
        "model.add(Dense(100, activation='relu'))\n",
        "model.add(Dense(150, activation='relu'))\n",
        "model.add(Dense(100, activation='relu'))\n",
        "model.add(Dense(50, activation='relu'))\n",
        "model.add(Dense(1, activation='linear'))\n",
        "model.compile(\n",
        "    loss='mean_squared_error',\n",
        "    optimizer='SGD'\n",
        ")\n",
        "\n",
        "model.fit(\n",
        "    X_train,\n",
        "    Y_train,\n",
        "    epochs=50,\n",
        "    batch_size=10,\n",
        "    shuffle=True,\n",
        "    verbose=2\n",
        ")\n",
        "\n",
        "joblib.dump(X_Scaler, \"/content/AI/Car_Price_Prediction/X_Scaler.pkl\")\n",
        "joblib.dump(Y_Scaler, \"/content/AI/Car_Price_Prediction/Y_Scaler.pkl\")\n",
        "\n",
        "model.save(\"/content/AI/Car_Price_Prediction/Car_Price_model.h5\")\n",
        "\n",
        "print(\"Model training results:\")\n",
        "\n",
        "predictions_train = model.predict(X_train, verbose=0)\n",
        "mse_train = mean_absolute_error(\n",
        "    Y_Scaler.inverse_transform(predictions_train),\n",
        "    Y_Scaler.inverse_transform(Y_train)\n",
        ")\n",
        "\n",
        "print(f\" - Training Set Error: {mse_train}\")\n",
        "\n",
        "predictions_test = model.predict(X_test, verbose=0)\n",
        "\n",
        "mse_test = mean_absolute_error(\n",
        "    Y_Scaler.inverse_transform(predictions_test),\n",
        "    Y_Scaler.inverse_transform(Y_test)\n",
        ")\n",
        "print(f\" - Test Set Error: {mse_test}\")"
      ]
    }
  ]
}