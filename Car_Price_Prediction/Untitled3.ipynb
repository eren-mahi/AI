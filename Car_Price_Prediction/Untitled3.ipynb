{
  "nbformat": 4,
  "nbformat_minor": 0,
  "metadata": {
    "colab": {
      "provenance": [],
      "gpuType": "T4",
      "authorship_tag": "ABX9TyOIobpf/AqkLGAD5JmpN7Wo"
    },
    "kernelspec": {
      "name": "python3",
      "display_name": "Python 3"
    },
    "language_info": {
      "name": "python"
    },
    "accelerator": "GPU"
  },
  "cells": [
    {
      "cell_type": "code",
      "source": [
        "!git clone https://github.com/eren-mahi/AI.git"
      ],
      "metadata": {
        "colab": {
          "base_uri": "https://localhost:8080/"
        },
        "id": "Y0sd8Nx7ZJsH",
        "outputId": "3c360ab8-6966-420a-8975-0ec673efffa2"
      },
      "execution_count": 3,
      "outputs": [
        {
          "output_type": "stream",
          "name": "stdout",
          "text": [
            "fatal: destination path 'AI' already exists and is not an empty directory.\n"
          ]
        }
      ]
    },
    {
      "cell_type": "code",
      "execution_count": 6,
      "metadata": {
        "id": "YkHu1IP5Rs96",
        "colab": {
          "base_uri": "https://localhost:8080/"
        },
        "outputId": "a453de69-fc5b-40cf-ab89-f1679151ebe2"
      },
      "outputs": [
        {
          "output_type": "stream",
          "name": "stderr",
          "text": [
            "/usr/local/lib/python3.11/dist-packages/keras/src/layers/core/dense.py:87: UserWarning: Do not pass an `input_shape`/`input_dim` argument to a layer. When using Sequential models, prefer using an `Input(shape)` object as the first layer in the model instead.\n",
            "  super().__init__(activity_regularizer=activity_regularizer, **kwargs)\n"
          ]
        },
        {
          "output_type": "stream",
          "name": "stdout",
          "text": [
            "Epoch 1/50\n",
            "10/10 - 1s - 99ms/step - loss: 0.2785\n",
            "Epoch 2/50\n",
            "10/10 - 1s - 51ms/step - loss: 0.1485\n",
            "Epoch 3/50\n",
            "10/10 - 0s - 6ms/step - loss: 0.1121\n",
            "Epoch 4/50\n",
            "10/10 - 0s - 6ms/step - loss: 0.1011\n",
            "Epoch 5/50\n",
            "10/10 - 0s - 5ms/step - loss: 0.0966\n",
            "Epoch 6/50\n",
            "10/10 - 0s - 5ms/step - loss: 0.0939\n",
            "Epoch 7/50\n",
            "10/10 - 0s - 5ms/step - loss: 0.0919\n",
            "Epoch 8/50\n",
            "10/10 - 0s - 6ms/step - loss: 0.0908\n",
            "Epoch 9/50\n",
            "10/10 - 0s - 6ms/step - loss: 0.0897\n",
            "Epoch 10/50\n",
            "10/10 - 0s - 9ms/step - loss: 0.0899\n",
            "Epoch 11/50\n",
            "10/10 - 0s - 13ms/step - loss: 0.0880\n",
            "Epoch 12/50\n",
            "10/10 - 0s - 9ms/step - loss: 0.0873\n",
            "Epoch 13/50\n",
            "10/10 - 0s - 7ms/step - loss: 0.0865\n",
            "Epoch 14/50\n",
            "10/10 - 0s - 15ms/step - loss: 0.0855\n",
            "Epoch 15/50\n",
            "10/10 - 0s - 8ms/step - loss: 0.0847\n",
            "Epoch 16/50\n",
            "10/10 - 0s - 14ms/step - loss: 0.0843\n",
            "Epoch 17/50\n",
            "10/10 - 0s - 14ms/step - loss: 0.0835\n",
            "Epoch 18/50\n",
            "10/10 - 0s - 14ms/step - loss: 0.0840\n",
            "Epoch 19/50\n",
            "10/10 - 0s - 14ms/step - loss: 0.0826\n",
            "Epoch 20/50\n",
            "10/10 - 0s - 14ms/step - loss: 0.0817\n",
            "Epoch 21/50\n",
            "10/10 - 0s - 14ms/step - loss: 0.0811\n",
            "Epoch 22/50\n",
            "10/10 - 0s - 7ms/step - loss: 0.0805\n",
            "Epoch 23/50\n",
            "10/10 - 0s - 9ms/step - loss: 0.0809\n",
            "Epoch 24/50\n",
            "10/10 - 0s - 7ms/step - loss: 0.0796\n",
            "Epoch 25/50\n",
            "10/10 - 0s - 15ms/step - loss: 0.0793\n",
            "Epoch 26/50\n",
            "10/10 - 0s - 14ms/step - loss: 0.0786\n",
            "Epoch 27/50\n",
            "10/10 - 0s - 14ms/step - loss: 0.0784\n",
            "Epoch 28/50\n",
            "10/10 - 0s - 11ms/step - loss: 0.0779\n",
            "Epoch 29/50\n",
            "10/10 - 0s - 5ms/step - loss: 0.0774\n",
            "Epoch 30/50\n",
            "10/10 - 0s - 5ms/step - loss: 0.0764\n",
            "Epoch 31/50\n",
            "10/10 - 0s - 5ms/step - loss: 0.0760\n",
            "Epoch 32/50\n",
            "10/10 - 0s - 5ms/step - loss: 0.0765\n",
            "Epoch 33/50\n",
            "10/10 - 0s - 6ms/step - loss: 0.0756\n",
            "Epoch 34/50\n",
            "10/10 - 0s - 5ms/step - loss: 0.0759\n",
            "Epoch 35/50\n",
            "10/10 - 0s - 14ms/step - loss: 0.0752\n",
            "Epoch 36/50\n",
            "10/10 - 0s - 6ms/step - loss: 0.0746\n",
            "Epoch 37/50\n",
            "10/10 - 0s - 5ms/step - loss: 0.0738\n",
            "Epoch 38/50\n",
            "10/10 - 0s - 6ms/step - loss: 0.0737\n",
            "Epoch 39/50\n",
            "10/10 - 0s - 5ms/step - loss: 0.0739\n",
            "Epoch 40/50\n",
            "10/10 - 0s - 6ms/step - loss: 0.0733\n",
            "Epoch 41/50\n",
            "10/10 - 0s - 6ms/step - loss: 0.0724\n",
            "Epoch 42/50\n",
            "10/10 - 0s - 5ms/step - loss: 0.0728\n",
            "Epoch 43/50\n",
            "10/10 - 0s - 6ms/step - loss: 0.0724\n",
            "Epoch 44/50\n",
            "10/10 - 0s - 5ms/step - loss: 0.0718\n",
            "Epoch 45/50\n",
            "10/10 - 0s - 6ms/step - loss: 0.0719\n",
            "Epoch 46/50\n",
            "10/10 - 0s - 7ms/step - loss: 0.0716\n",
            "Epoch 47/50\n",
            "10/10 - 0s - 14ms/step - loss: 0.0709\n",
            "Epoch 48/50\n",
            "10/10 - 0s - 5ms/step - loss: 0.0718\n",
            "Epoch 49/50\n",
            "10/10 - 0s - 6ms/step - loss: 0.0707\n",
            "Epoch 50/50\n",
            "10/10 - 0s - 6ms/step - loss: 0.0702\n"
          ]
        },
        {
          "output_type": "stream",
          "name": "stderr",
          "text": [
            "WARNING:absl:You are saving your model as an HDF5 file via `model.save()` or `keras.saving.save_model(model)`. This file format is considered legacy. We recommend using instead the native Keras format, e.g. `model.save('my_model.keras')` or `keras.saving.save_model(model, 'my_model.keras')`. \n"
          ]
        },
        {
          "output_type": "stream",
          "name": "stdout",
          "text": [
            "Model training results:\n"
          ]
        },
        {
          "output_type": "stream",
          "name": "stderr",
          "text": [
            "WARNING:tensorflow:5 out of the last 9 calls to <function TensorFlowTrainer.make_predict_function.<locals>.one_step_on_data_distributed at 0x7bdd095122a0> triggered tf.function retracing. Tracing is expensive and the excessive number of tracings could be due to (1) creating @tf.function repeatedly in a loop, (2) passing tensors with different shapes, (3) passing Python objects instead of tensors. For (1), please define your @tf.function outside of the loop. For (2), @tf.function has reduce_retracing=True option that can avoid unnecessary retracing. For (3), please refer to https://www.tensorflow.org/guide/function#controlling_retracing and https://www.tensorflow.org/api_docs/python/tf/function for  more details.\n",
            "WARNING:tensorflow:6 out of the last 11 calls to <function TensorFlowTrainer.make_predict_function.<locals>.one_step_on_data_distributed at 0x7bdd095122a0> triggered tf.function retracing. Tracing is expensive and the excessive number of tracings could be due to (1) creating @tf.function repeatedly in a loop, (2) passing tensors with different shapes, (3) passing Python objects instead of tensors. For (1), please define your @tf.function outside of the loop. For (2), @tf.function has reduce_retracing=True option that can avoid unnecessary retracing. For (3), please refer to https://www.tensorflow.org/guide/function#controlling_retracing and https://www.tensorflow.org/api_docs/python/tf/function for  more details.\n"
          ]
        },
        {
          "output_type": "stream",
          "name": "stdout",
          "text": [
            " - Training Set Error: 768444.0578125\n",
            " - Test Set Error: 1043414.825\n"
          ]
        }
      ],
      "source": [
        "import pandas as pd\n",
        "from tensorflow.keras.models import Sequential\n",
        "from tensorflow.keras.layers import Dense\n",
        "from sklearn.model_selection import train_test_split\n",
        "from sklearn.preprocessing import MinMaxScaler\n",
        "import joblib\n",
        "from sklearn.metrics import mean_absolute_error\n",
        "\n",
        "pd.options.mode.chained_assignment = None\n",
        "\n",
        "dt = pd.read_csv(\"/content/AI/Car_Price_Prediction/car_data_100_entries.csv\")\n",
        "\n",
        "X = dt[[\"Ctype\",\"Cc\",\"Wbase\",\"Wtype\",\"Btype\"]]\n",
        "Y = dt[[\"Price\"]]\n",
        "\n",
        "X_Scaler = MinMaxScaler(feature_range=(0,1))\n",
        "Y_Scaler = MinMaxScaler(feature_range=(0,1))\n",
        "\n",
        "X[X.columns] = X_Scaler.fit_transform(X[X.columns])\n",
        "Y[Y.columns] = Y_Scaler.fit_transform(Y[Y.columns])\n",
        "\n",
        "X_train, X_test, Y_train, Y_test = train_test_split(X, Y, test_size=0.20)\n",
        "\n",
        "model = Sequential()\n",
        "model.add(Dense(100, input_dim=5, activation='relu'))\n",
        "model.add(Dense(150, activation='relu'))\n",
        "model.add(Dense(100, activation='relu'))\n",
        "model.add(Dense(50, activation='relu'))\n",
        "model.add(Dense(1, activation='linear'))\n",
        "model.compile(\n",
        "    loss='mean_squared_error',\n",
        "    optimizer='SGD'\n",
        ")\n",
        "\n",
        "model.fit(\n",
        "    X_train,\n",
        "    Y_train,\n",
        "    epochs=50,\n",
        "    batch_size=8,\n",
        "    shuffle=True,\n",
        "    verbose=2\n",
        ")\n",
        "\n",
        "joblib.dump(X_Scaler, \"/content/AI/Car_Price_Prediction/X_Scaler.pkl\")\n",
        "joblib.dump(Y_Scaler, \"/content/AI/Car_Price_Prediction/Y_Scaler.pkl\")\n",
        "\n",
        "model.save(\"/content/AI/Car_Price_Prediction/Car_Price_model.h5\")\n",
        "\n",
        "print(\"Model training results:\")\n",
        "\n",
        "predictions_train = model.predict(X_train, verbose=0)\n",
        "mse_train = mean_absolute_error(\n",
        "    Y_Scaler.inverse_transform(predictions_train),\n",
        "    Y_Scaler.inverse_transform(Y_train)\n",
        ")\n",
        "\n",
        "print(f\" - Training Set Error: {mse_train}\")\n",
        "\n",
        "predictions_test = model.predict(X_test, verbose=0)\n",
        "\n",
        "mse_test = mean_absolute_error(\n",
        "    Y_Scaler.inverse_transform(predictions_test),\n",
        "    Y_Scaler.inverse_transform(Y_test)\n",
        ")\n",
        "print(f\" - Test Set Error: {mse_test}\")"
      ]
    }
  ]
}